{
 "cells": [
  {
   "cell_type": "code",
   "execution_count": 276,
   "metadata": {
    "collapsed": true
   },
   "outputs": [],
   "source": [
    "import math\n",
    "\n",
    "import numpy as np\n",
    "import matplotlib.pyplot as plt\n"
   ]
  },
  {
   "cell_type": "code",
   "execution_count": 309,
   "outputs": [],
   "source": [
    "\n",
    "\n",
    "\n",
    "\n",
    "class Config:\n",
    "    def __init__(self):\n",
    "        self.alpha = np.float32(1)\n",
    "        self.gamma = np.float32(2)\n",
    "        self.rho = np.float32(0.5)\n",
    "        self.sigma = np.float32(0.5)\n",
    "        self.dims = 2\n",
    "\n",
    "\n",
    "config = Config()\n",
    "X = 5\n",
    "Y = 5\n",
    "\"\"\"\n",
    "X2 = 8\n",
    "Y2 = 8\n",
    "\"\"\"\n",
    "\n",
    "\n",
    "class Point:\n",
    "    def __init__(self, x: np.int32, y: np.int32):\n",
    "        self.x = x\n",
    "        self.y = y\n",
    "\n",
    "    def f(self):\n",
    "        return np.sqrt(np.power(X - self.x, 2) + np.power(Y - self.y, 2))\n",
    "        \"\"\"\n",
    "        return min(np.sqrt(np.power(X - self.x, 2) + np.power(Y - self.y, 2)),\n",
    "                      np.sqrt(np.power(X2 - self.x, 2) + np.power(Y2 - self.y, 2)))\n",
    "        \"\"\"\n",
    "\n",
    "    def __repr__(self):\n",
    "        return \"(\" + str(self.x) + \", \" + str(self.y) + \")\"\n",
    "\n",
    "    def __lt__(self, other):\n",
    "        return self.f() < other.f()\n",
    "\n",
    "\n",
    "def plus(a, b):\n",
    "    ret1 = a.x + b.x\n",
    "    ret2 = a.y + b.y\n",
    "    return Point(ret1, ret2)\n",
    "\n",
    "\n",
    "def minus(a, b):\n",
    "    ret1 = a.x - b.x\n",
    "    ret2 = a.y - b.y\n",
    "    return Point(ret1, ret2)\n",
    "\n",
    "\n",
    "def expand(k, a):\n",
    "    ret1 = a.x * k\n",
    "    ret2 = a.y * k\n",
    "    return Point(ret1, ret2)\n",
    "\n",
    "\n",
    "def divide(a, k):\n",
    "    ret1 = a.x / k\n",
    "    ret2 = a.y / k\n",
    "    return Point(ret1, ret2)\n",
    "\n",
    "\n",
    "class DownhillSimplexMethod:\n",
    "\n",
    "    def __init__(self, config, dims=2):\n",
    "        self.alpha = config.alpha\n",
    "        self.gamma = config.gamma\n",
    "        self.rho = config.rho\n",
    "        self.sigma = config.sigma\n",
    "        self.dims = dims\n",
    "        self.points = []\n",
    "        for i in range(self.dims + 1):\n",
    "            self.points.append(Point(np.random.uniform(0, 10, 1)[0], np.random.uniform(0, 10, 1)[0]))\n",
    "        self.initialize()\n",
    "\n",
    "    def initialize(self):\n",
    "        self.x_o = Point(np.float32(0), np.float32(0))\n",
    "        self.x_r = Point(np.float32(0), np.float32(0))\n",
    "        self.x_e = Point(np.float32(0), np.float32(0))\n",
    "        self.x_c = Point(np.float32(0), np.float32(0))\n",
    "        self.x_n = self.points[-2]\n",
    "        self.x_n1 = self.points[-1]\n",
    "\n",
    "    def replace(self, p: Point):\n",
    "        self.points[-1] = p\n",
    "\n",
    "    def order(self):\n",
    "        self.points.sort()\n",
    "\n",
    "    def calculate(self):\n",
    "        for i in range(self.dims):\n",
    "            self.x_o = plus(self.x_o, self.points[i])\n",
    "        self.x_o = divide(self.x_o, self.dims)\n",
    "\n",
    "    def reflection(self):\n",
    "        self.x_r = plus(self.x_o, expand(self.alpha, minus(self.x_o, self.x_n1)))\n",
    "        if self.points[0].f() <= self.x_r.f() < self.x_n.f():\n",
    "            self.replace(self.x_r)\n",
    "            return True\n",
    "        return False\n",
    "\n",
    "    def expansion(self):\n",
    "        if self.x_r.f() < self.points[0].f():\n",
    "            self.x_e = plus(self.x_o, expand(self.gamma, minus(self.x_r, self.x_o)))\n",
    "            if self.x_e.f() < self.x_r.f():\n",
    "                self.replace(self.x_e)\n",
    "            else:\n",
    "                self.replace(self.x_r)\n",
    "            return True\n",
    "        return False\n",
    "\n",
    "\n",
    "    def contraction(self):\n",
    "        if self.x_r.f() < self.x_n.f():\n",
    "            return True\n",
    "\n",
    "        if self.x_r.f() < self.x_n1.f():\n",
    "            self.x_c = plus(self.x_o, expand(self.rho, minus(self.x_r, self.x_o)))\n",
    "            if self.x_c.f() < self.x_r.f():\n",
    "                self.replace(self.x_c)\n",
    "                return True\n",
    "            else:\n",
    "                return False\n",
    "        else:\n",
    "            self.x_c = plus(self.x_o, expand(self.rho, minus(self.x_n1, self.x_o)))\n",
    "            if self.x_c.f() < self.x_n1.f():\n",
    "                self.replace(self.x_c)\n",
    "                return True\n",
    "            return False\n",
    "\n",
    "\n",
    "    def shrink(self):\n",
    "        for i in range(1, len(self.points)):\n",
    "            self.points[i] = plus(self.points[0], expand(self.sigma, minus(self.points[i], self.points[0])))\n",
    "\n",
    "\n",
    "\n",
    "\n"
   ],
   "metadata": {
    "collapsed": false,
    "pycharm": {
     "name": "#%%\n"
    }
   }
  },
  {
   "cell_type": "code",
   "execution_count": 313,
   "outputs": [
    {
     "data": {
      "text/plain": "<Figure size 432x288 with 1 Axes>",
      "image/png": "[encoded data removed]"
     },
     "metadata": {
      "needs_background": "light"
     },
     "output_type": "display_data"
    },
    {
     "name": "stdout",
     "output_type": "stream",
     "text": [
      "[(7.699061005310458, 3.106372762622236), (9.574181093593568, 7.493035751738045), (2.7844015549771695, 7.386050510910449)]\n"
     ]
    },
    {
     "data": {
      "text/plain": "<Figure size 432x288 with 1 Axes>",
      "image/png": "[encoded data removed]"
     },
     "metadata": {
      "needs_background": "light"
     },
     "output_type": "display_data"
    },
    {
     "data": {
      "text/plain": "<Figure size 432x288 with 1 Axes>",
      "image/png": "[encoded data removed]"
     },
     "metadata": {
      "needs_background": "light"
     },
     "output_type": "display_data"
    },
    {
     "data": {
      "text/plain": "<Figure size 432x288 with 1 Axes>",
      "image/png": "[encoded data removed]"
     },
     "metadata": {
      "needs_background": "light"
     },
     "output_type": "display_data"
    }
   ],
   "source": [
    "\n",
    "\n",
    "dsm = DownhillSimplexMethod(config)\n",
    "\n",
    "\n",
    "def make_graph(vectors):\n",
    "    x = []\n",
    "    y = []\n",
    "    for vector in vectors:\n",
    "        x.append(vector.x)\n",
    "        y.append(vector.y)\n",
    "    plt.scatter(x, y)\n",
    "    plt.scatter(X, Y, color='r')\n",
    "    #plt.scatter(X2, Y2, color='r')\n",
    "    plt.show()\n",
    "\n",
    "\n",
    "def make_f_graph(vectors):\n",
    "    cnt = []\n",
    "    res = []\n",
    "    for i, vector in enumerate(vectors):\n",
    "        cnt.append(i)\n",
    "        res.append(vector.f())\n",
    "    plt.scatter(cnt, res)\n",
    "    plt.show()\n",
    "\n",
    "\n",
    "result = []\n",
    "make_graph(dsm.points)\n",
    "print(dsm.points)\n",
    "for i in range(30):\n",
    "    dsm.order()\n",
    "    dsm.initialize()\n",
    "    if (i+1)%10 == 0:\n",
    "        make_graph(dsm.points)\n",
    "    dsm.calculate()\n",
    "    fin = dsm.reflection()\n",
    "    if fin:\n",
    "        result.append(dsm.points[0])\n",
    "        continue\n",
    "    fin = dsm.expansion()\n",
    "    if fin:\n",
    "        result.append(dsm.points[0])\n",
    "        continue\n",
    "    fin = dsm.contraction()\n",
    "\n",
    "    if fin:\n",
    "        result.append(dsm.points[0])\n",
    "        continue\n",
    "    dsm.shrink()\n",
    "    result.append(dsm.points[0])\n"
   ],
   "metadata": {
    "collapsed": false,
    "pycharm": {
     "name": "#%%\n"
    }
   }
  },
  {
   "cell_type": "code",
   "execution_count": 315,
   "outputs": [
    {
     "data": {
      "text/plain": "<Figure size 432x288 with 1 Axes>",
      "image/png": "[encoded data removed]"
     },
     "metadata": {
      "needs_background": "light"
     },
     "output_type": "display_data"
    }
   ],
   "source": [
    "def make_f_graph(vectors):\n",
    "    cnt = []\n",
    "    res = []\n",
    "    for i, vector in enumerate(vectors):\n",
    "        cnt.append(i+1)\n",
    "        res.append(vector.f())\n",
    "    plt.scatter(cnt, res)\n",
    "    plt.show()\n",
    "make_f_graph(result)"
   ],
   "metadata": {
    "collapsed": false,
    "pycharm": {
     "name": "#%%\n"
    }
   }
  },
  {
   "cell_type": "code",
   "execution_count": 316,
   "outputs": [
    {
     "name": "stdout",
     "output_type": "stream",
     "text": [
      "4.999839495925646 4.9997537422554075\n"
     ]
    }
   ],
   "source": [
    "print(result[-1].x, result[-1].y)"
   ],
   "metadata": {
    "collapsed": false,
    "pycharm": {
     "name": "#%%\n"
    }
   }
  },
  {
   "cell_type": "code",
   "execution_count": 77,
   "outputs": [
    {
     "data": {
      "text/plain": "3.1622776601683795"
     },
     "execution_count": 77,
     "metadata": {},
     "output_type": "execute_result"
    }
   ],
   "source": [],
   "metadata": {
    "collapsed": false,
    "pycharm": {
     "name": "#%%\n"
    }
   }
  },
  {
   "cell_type": "code",
   "execution_count": null,
   "outputs": [],
   "source": [
    "\n"
   ],
   "metadata": {
    "collapsed": false,
    "pycharm": {
     "name": "#%%\n"
    }
   }
  }
 ],
 "metadata": {
  "kernelspec": {
   "display_name": "Python 3",
   "language": "python",
   "name": "python3"
  },
  "language_info": {
   "codemirror_mode": {
    "name": "ipython",
    "version": 2
   },
   "file_extension": ".py",
   "mimetype": "text/x-python",
   "name": "python",
   "nbconvert_exporter": "python",
   "pygments_lexer": "ipython2",
   "version": "2.7.6"
  }
 },
 "nbformat": 4,
 "nbformat_minor": 0
}